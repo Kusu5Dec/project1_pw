{
 "cells": [
  {
   "cell_type": "code",
   "execution_count": null,
   "metadata": {},
   "outputs": [],
   "source": [
    "#Name-kusum\n",
    "#Reg Email-prajapatikusum748@gmail.com\n",
    "#Course Name=full stack data science pro\n",
    "#Assignment Name-pw assignment\n",
    "#Git Link-https://github.com/Kusu5Dec/project1_pw/blob/main/pw_assignment_project-1.ipynb\n",
    "#drive link-https://docs.google.com/document/d/1dfJATSko2MDr2ipjlT28_ZP4YeS4I9izMqUN6UHVm7w/edit?usp=sharing\n",
    "\n"
   ]
  },
  {
   "cell_type": "markdown",
   "metadata": {},
   "source": [
    " #Write a program to display the appropriate message as per the color of signal(RED-Stop/Yellow-Stay/Green-Go) at the road crossing."
   ]
  },
  {
   "cell_type": "code",
   "execution_count": 1,
   "metadata": {},
   "outputs": [
    {
     "name": "stdout",
     "output_type": "stream",
     "text": [
      "Stop!\n"
     ]
    }
   ],
   "source": [
    "def display_message(color):\n",
    "    if color.lower() == 'red':\n",
    "        print(\"Stop!\")\n",
    "    elif color.lower() == 'yellow':\n",
    "        print(\"Stay!\")\n",
    "    elif color.lower() == 'green':\n",
    "        print(\"Go!\")\n",
    "    else:\n",
    "        print(\"Invalid color. Please enter red, yellow, or green.\")\n",
    "# Get the color of the signal from the user\n",
    "color = input(\"Enter the color of the signal (red, yellow, or green): \")\n",
    "# Call the function to display the message\n",
    "display_message(color)\n"
   ]
  },
  {
   "cell_type": "markdown",
   "metadata": {},
   "source": [
    "#Write a program to create a simple calculator performing only four basic operations(+,-,/,*) "
   ]
  },
  {
   "cell_type": "code",
   "execution_count": 8,
   "metadata": {},
   "outputs": [
    {
     "name": "stdout",
     "output_type": "stream",
     "text": [
      "Simple Calculator\n",
      "1. Addition\n",
      "2. Subtraction\n",
      "3. Multiplication\n",
      "4. Division\n",
      "Result:  5.0\n"
     ]
    }
   ],
   "source": [
    "def add(x, y):\n",
    "    return x + y\n",
    "def subtract(x, y):\n",
    "    return x - y\n",
    "def multiply(x, y):\n",
    "    return x * y\n",
    "def divide(x, y):\n",
    "    if y == 0:\n",
    "        return \"Error: Division by zero is not allowed\"\n",
    "    else:\n",
    "        return x / y\n",
    "# Create a main function to handle user input\n",
    "def calculator():\n",
    "   print(\"Simple Calculator\")\n",
    "   print(\"1. Addition\")\n",
    "   print(\"2. Subtraction\")\n",
    "   print(\"3. Multiplication\")\n",
    "   print(\"4. Division\")\n",
    "   choice = int(input(\"Enter your choice (1/2/3/4): \"))\n",
    "   num1 = float(input(\"Enter first number: \"))\n",
    "   num2 = float(input(\"Enter second number:\"))\n",
    "   if choice == 1:\n",
    "        print(\"Result: \", add(num1, num2))\n",
    "   elif choice == 2:\n",
    "        print(\"Result: \", subtract(num1, num2))\n",
    "   elif choice == 3:\n",
    "        print(\"Result: \", multiply(num1, num2))\n",
    "   elif choice == 4:\n",
    "        print(\"Result: \", divide(num1, num2))\n",
    "   else:\n",
    "    print(\"Invalid choice. Please enter a number between 1 and 4.\")\n",
    "# Call the main function\n",
    "calculator()\n",
    "\n"
   ]
  },
  {
   "cell_type": "markdown",
   "metadata": {},
   "source": [
    "#Write a program to find the larger of the three pre-specified numbers using ternary operators."
   ]
  },
  {
   "cell_type": "code",
   "execution_count": 10,
   "metadata": {},
   "outputs": [
    {
     "name": "stdout",
     "output_type": "stream",
     "text": [
      "The largest number is: 30\n",
      "The largest number is: 30\n"
     ]
    }
   ],
   "source": [
    "num1 = 10\n",
    "num2 = 20\n",
    "num3 = 30\n",
    "# Use ternary operators to find the largest number\n",
    "largest = num1 if num1 > num2 and num1 > num3 else num2 if num2 > num3 else num3\n",
    "# Print the result\n",
    "print(\"The largest number is:\", largest)\n",
    "largest = max(num1, num2, num3)\n",
    "print(\"The largest number is:\", largest)\n",
    "\n"
   ]
  },
  {
   "cell_type": "markdown",
   "metadata": {},
   "source": [
    "#Write a program to find the factors of a whole number using a while loop."
   ]
  },
  {
   "cell_type": "code",
   "execution_count": 11,
   "metadata": {},
   "outputs": [
    {
     "name": "stdout",
     "output_type": "stream",
     "text": [
      "Factors of 1 are:\n",
      "1\n"
     ]
    }
   ],
   "source": [
    "num = int(input(\"Enter a whole number: \"))\n",
    "# Initialize the factor variable\n",
    "factor = 1\n",
    "# Print the header\n",
    "print(\"Factors of\", num, \"are:\")\n",
    "# Use a while loop to find the factors\n",
    "while factor <= num:\n",
    "    if num % factor == 0:\n",
    "        print(factor)\n",
    "    factor += 1\n"
   ]
  },
  {
   "cell_type": "markdown",
   "metadata": {},
   "source": [
    "#Write a program to find the sum of all the positive numbers entered by the user. As soon as the user\n",
    "enters a negative number, stop taking in any further input from the user and display the sum\n"
   ]
  },
  {
   "cell_type": "code",
   "execution_count": null,
   "metadata": {},
   "outputs": [],
   "source": [
    "sum = 0\n",
    "# Print the prompt\n",
    "print(\"Enter positive numbers (enter a negative number to stop):\")\n",
    "# Use a while loop to get input from the user\n",
    "while True:\n",
    "    num = float(input(\"Enter a number: \"))\n",
    "    if num < 0:\n",
    "        break\n",
    "    sum += num\n",
    "# Print the result\n",
    "print(\"The sum of the positive numbers is:\", sum)"
   ]
  },
  {
   "cell_type": "markdown",
   "metadata": {},
   "source": [
    "#Write a program to find prime numbers between 2 to 100 using nested for loops."
   ]
  },
  {
   "cell_type": "code",
   "execution_count": 15,
   "metadata": {},
   "outputs": [
    {
     "name": "stdout",
     "output_type": "stream",
     "text": [
      "Prime numbers between 2 and 100 are:\n"
     ]
    }
   ],
   "source": [
    "# Print the header\n",
    "print(\"Prime numbers between 2 and 100 are:\")\n",
    "# Iterate over the range from 2 to 100\n",
    "for num in range(2, 101):\n",
    "    # Assume the number is prime\n",
    "    is_prime = True\n",
    "# Use a nested for loop to check if the number is prime\n",
    "    for i in range(2, num):\n",
    "        if num % i == 0:\n",
    "            # If the number is divisible by any number less than itself, it is not prime\n",
    "            is_prime = False\n",
    "            break\n",
    " # If the number is prime, print it to the console\n",
    "if is_prime:\n",
    "        print(num)\n"
   ]
  },
  {
   "cell_type": "markdown",
   "metadata": {},
   "source": [
    "#Write the programs for the following:\n",
    "+ Accept the marks of the student in five major subjects and display the same.\n",
    "+ Calculate the sum of the marks of all subjects.Divide the total marks by number of subjects (ie. 5), calculate\n",
    "percentage = total marks/5 and display the percentage.\n",
    "+ Find the grade of the student as per the following criteria . Hint: Use Match & case for this.:\n",
    "Criteria Grade\n",
    "percentage > 85 A\n",
    "percentage < 85 &é& percentage >= 75 B\n",
    "percentage < 75 && percentage >= 50 es\n",
    "percentage > 30 && percentage <= 50 D\n",
    "percentage <30 Reappear"
   ]
  },
  {
   "cell_type": "code",
   "execution_count": 16,
   "metadata": {},
   "outputs": [
    {
     "name": "stdout",
     "output_type": "stream",
     "text": [
      "Enter marks of 5 subjects:\n",
      "Marks of 5 subjects are:\n",
      "Subject 1: 34.0\n",
      "Subject 2: 45.0\n",
      "Subject 3: 22.0\n",
      "Subject 4: 45.0\n",
      "Subject 5: 47.0\n",
      "Percentage: 38.60%\n",
      "Grade: D\n"
     ]
    }
   ],
   "source": [
    "print(\"Enter marks of 5 subjects:\")\n",
    "marks = []\n",
    "for i in range(5):\n",
    "    mark = float(input(f\"Enter mark of subject {i+1}: \"))\n",
    "    marks.append(mark)\n",
    "# Display the marks\n",
    "print(\"Marks of 5 subjects are:\")\n",
    "for i, mark in enumerate(marks, start=1):\n",
    "    print(f\"Subject {i}: {mark}\")\n",
    "# Calculate sum of marks\n",
    "total_marks = sum(marks)\n",
    "# Calculate percentage\n",
    "percentage = total_marks / 5\n",
    "# Display percentage\n",
    "print(f\"Percentage: {percentage:.2f}%\")\n",
    "# Find grade using match-case statement (Python 3.10+)\n",
    "match percentage:\n",
    "    case p if p > 85:\n",
    "        grade = \"A\"\n",
    "    case p if 75 <= p <= 85:\n",
    "        grade = \"B\"\n",
    "    case p if 50 <= p < 75:\n",
    "        grade = \"C\"\n",
    "    case p if 30 <= p < 50:\n",
    "        grade = \"D\"\n",
    "    case _:\n",
    "        grade = \"Reappear\"\n",
    "# Display grade\n",
    "print(f\"Grade: {grade}\")\n"
   ]
  },
  {
   "cell_type": "markdown",
   "metadata": {},
   "source": [
    "#Write a program for VIBGYOR Spectrum based on their Wavelength using.\n"
   ]
  },
  {
   "cell_type": "code",
   "execution_count": 17,
   "metadata": {},
   "outputs": [
    {
     "name": "stdout",
     "output_type": "stream",
     "text": [
      "The color corresponding to the wavelength 67.0 nm is Invalid wavelength\n"
     ]
    }
   ],
   "source": [
    "def classify_spectrum(wavelength):\n",
    "    if 380 <= wavelength < 450:\n",
    "        return \"Violet\"\n",
    "    elif 450 <= wavelength < 495:\n",
    "        return \"Indigo\"\n",
    "    elif 495 <= wavelength < 570:\n",
    "        return \"Blue\"\n",
    "    elif 570 <= wavelength < 620:\n",
    "        return \"Green\"\n",
    "    elif 620 <= wavelength < 750:\n",
    "        return \"Yellow\"\n",
    "    elif 750 <= wavelength <= 850:\n",
    "        return \"Orange\"\n",
    "    else:\n",
    "        return \"Invalid wavelength\"\n",
    "wavelength = float(input(\"Enter the wavelength (in nm): \"))\n",
    "print(f\"The color corresponding to the wavelength {wavelength} nm is {classify_spectrum(wavelength)}\")\n"
   ]
  },
  {
   "cell_type": "markdown",
   "metadata": {},
   "source": [
    "#.Consider the gravitational interactions between the Earth, Moon, and Sun in our solar system.\n",
    "Given:\n",
    "mass_earth = 5.972624 # Mass of Earth in kilograms\n",
    "mass_moon = 7.34767309e22 # Mass of Moon in kilograms\n",
    "mass_sun = 1.989e30 # Mass of Sun in kilograms\n",
    "distance_earth_sun = 1.496ell # Average distance between Earth and Sun in meters\n",
    "distance_moon_earth = 3.844e8 # Average distance between Moon and Earth in meters\n",
    "Tasks:\n",
    "+ Calculate the gravitational force between the Earth and the Sun,\n",
    "+ Calculate the gravitational force between the Moon and the Earth.\n",
    "+ Compare the calculated forces to determine which gravitational force is stronger.\n",
    "+ Explain which celestial body (Earth or Moon) is more attracted to the other based on the comparison"
   ]
  },
  {
   "cell_type": "code",
   "execution_count": 19,
   "metadata": {},
   "outputs": [
    {
     "name": "stdout",
     "output_type": "stream",
     "text": [
      "Gravitational force between Earth and Sun: 3.54e+22 N\n",
      "Gravitational force between Moon and Earth: 1.98e+20 N\n",
      "The gravitational force between Earth and Sun is stronger.\n",
      "The Earth is more attracted to the Sun.\n"
     ]
    }
   ],
   "source": [
    "\n",
    "G = 6.67430e-11  # Gravitational constant in m^3 kg^-1 s^-2\n",
    "mass_earth = 5.972624e24  # Mass of Earth in kilograms\n",
    "mass_moon = 7.34767309e22  # Mass of Moon in kilograms\n",
    "mass_sun = 1.989e30  # Mass of Sun in kilograms\n",
    "distance_earth_sun = 1.496e11  # Average distance between Earth and Sun in meters\n",
    "distance_moon_earth = 3.844e8  # Average distance between Moon and Earth in meters\n",
    "# Calculate gravitational force between Earth and Sun\n",
    "force_earth_sun = G * mass_earth * mass_sun / distance_earth_sun**2\n",
    "print(f\"Gravitational force between Earth and Sun: {force_earth_sun:.2e} N\")\n",
    "# Calculate gravitational force between Moon and Earth\n",
    "force_moon_earth = G * mass_moon * mass_earth / distance_moon_earth**2\n",
    "print(f\"Gravitational force between Moon and Earth: {force_moon_earth:.2e} N\")\n",
    "# Compare the forces\n",
    "if force_earth_sun > force_moon_earth:\n",
    "    print(\"The gravitational force between Earth and Sun is stronger.\")\n",
    "    print(\"The Earth is more attracted to the Sun.\")\n",
    "else:\n",
    "    print(\"The gravitational force between Moon and Earth is stronger.\")\n",
    "    print(\"The Moon is more attracted to the Earth.\")\n"
   ]
  },
  {
   "cell_type": "markdown",
   "metadata": {},
   "source": [
    "#Design and implement a Python program for managing student information using object-oriented\n",
    "principles. Create a class called Student’ with encapsulated attributes for name, age, and roll number.\n",
    "Implement getter and setter methods for these attributes. Additionally, provide methods to display student\n",
    "information and update student details.\n",
    "Tasks:\n",
    "+ Define the “Student class with encapsulated attributes.\n",
    "+ Implement getter and setter methods for the attributes.\n",
    "+ Write methods to display student information and update details.\n",
    "+ Create instances of the “Student class and test the implemented functionality.\n"
   ]
  },
  {
   "cell_type": "code",
   "execution_count": 24,
   "metadata": {},
   "outputs": [
    {
     "name": "stdout",
     "output_type": "stream",
     "text": [
      "Student 1 Information:\n",
      "Name:John Doe\n",
      "Age: 20\n",
      "Roll Number: 101\n",
      "\n",
      "Updating Student 1 Details...\n",
      "Updated Student 1 Information:\n",
      "Name:John Doe Jr.\n",
      "Age: 21\n",
      "Roll Number: 101\n",
      "\n",
      "Student 2 Information:\n",
      "Name:Jane Smith\n",
      "Age: 22\n",
      "Roll Number: 102\n",
      "\n",
      "Updating Student 2 Details...\n",
      "Updated Student 2 Information:\n",
      "Name:Jane Smith\n",
      "Age: 22\n",
      "Roll Number: 103\n"
     ]
    }
   ],
   "source": [
    "class Student:\n",
    "    def __init__(self, name, age, roll_number):\n",
    "     self.__name = name\n",
    "     self.__age = age\n",
    "     self.__roll_number = roll_number\n",
    "# Getter methods\n",
    "    def get_name(self):\n",
    "        return self.__name\n",
    "    def get_age(self):\n",
    "        return self.__age\n",
    "    def get_roll_number(self):\n",
    "        return self.__roll_number\n",
    "# Setter methods\n",
    "    def set_name(self, name):\n",
    "        self.__name = name\n",
    "    def set_age(self, age):\n",
    "        self.__age = age\n",
    "    def set_roll_number(self, roll_number):\n",
    "        self.__roll_number = roll_number\n",
    "    # Method to display student information\n",
    "    def display_student_info(self):\n",
    "        print(f\"Name:{self.__name}\")\n",
    "        print(f\"Age: {self.__age}\")\n",
    "        print(f\"Roll Number: {self.__roll_number}\")\n",
    "    # Method to update student details\n",
    "    def update_student_details(self, name=None, age=None, roll_number=None):\n",
    "        if name:\n",
    "            self.__name = name\n",
    "        if age:\n",
    "            self.__age = age\n",
    "        if roll_number:\n",
    "            self.__roll_number = roll_number\n",
    "# Create instances of the Student class\n",
    "student1 = Student(\"John Doe\", 20, 101)\n",
    "student2 = Student(\"Jane Smith\", 22, 102)\n",
    "# Test the implemented functionality\n",
    "print(\"Student 1 Information:\")\n",
    "student1.display_student_info()\n",
    "print(\"\\nUpdating Student 1 Details...\")\n",
    "student1.update_student_details(name=\"John Doe Jr.\", age=21)\n",
    "print(\"Updated Student 1 Information:\")\n",
    "student1.display_student_info()\n",
    "print(\"\\nStudent 2 Information:\")\n",
    "student2.display_student_info()\n",
    "print(\"\\nUpdating Student 2 Details...\")\n",
    "student2.update_student_details(roll_number=103)\n",
    "print(\"Updated Student 2 Information:\")\n",
    "student2.display_student_info()"
   ]
  },
  {
   "cell_type": "markdown",
   "metadata": {},
   "source": [
    "#Develop a Python program for managing library resources efficiently. Design a class named ‘LibraryBook™\n",
    "with attributes like book name, author, and availability status. Implement methods for borrowing and\n",
    "returning books while ensuring proper encapsulation of attributes.\n",
    "Tasks;\n",
    "+ 1. Create the ‘LibraryBook’ class with encapsulated attributes.\n",
    "+ 2. Implement methods for borrowing and returning books.\n",
    "+ 3. Ensure proper encapsulation to protect book details.\n",
    "+ 4. Test the borrowing and returning functionality with sample data."
   ]
  },
  {
   "cell_type": "code",
   "execution_count": 29,
   "metadata": {},
   "outputs": [],
   "source": [
    "class LibraryBook:\n",
    "    def __init__(self, book_name, author, availability=True):\n",
    "        self.__book_name = book_name\n",
    "        self.__author = author\n",
    "        self.__availability = availability\n",
    "    # Getter methods\n",
    "    def get_book_name(self):\n",
    "        return self.__book_name\n",
    "    def get_author(self):\n",
    "        return self.__author\n",
    "    def get_availability(self):\n",
    "        return self.__availability\n",
    "   # Setter methods\n",
    "    def set_availability(self, availability):\n",
    "        self.__availability = availability\n",
    "    def get_author(self):\n",
    "        return self.__author\n",
    "    def get_availability(self):\n",
    "        return self.__availability\n",
    "   # Setter methods\n",
    "    def set_availability(self, availability):\n",
    "        self.__availability = availability\n",
    "    def get_author(self):\n",
    "        return self.__author\n",
    "    def get_availability(self):\n",
    "        return self.__availability\n",
    "   # Setter methods\n",
    "    def set_availability(self, availability):\n",
    "        self.__availability = availability\n",
    "        print(f\"Availability: {'Available' if book1.get_availability() else 'Not Available'}\")\n",
    "        book1=book1.borrow_book()\n",
    "        print(\"Book 1 Details after borrowing:\")\n",
    "        print(f\"Book Name: {book1.get_book_name()}\")\n",
    "        print(f\"Author: {book1.get_author()}\")\n",
    "        print(f\"Availability: {'Available' if book1.get_availability() else 'Not Available'}\")\n",
    "        book1.return_book()\n",
    "        print(\"Book 1 Details after returning:\")\n",
    "        print(f\"Book Name: {book1.get_book_name()}\")\n",
    "        print(f\"Author: {book1.get_author()}\")\n",
    "        print(f\"Availability: {'Available' if book1.get_availability() else 'Not Available'}\")\n",
    "        print(\"\\nBook 2 Details:\")\n",
    "        print(f\"Book Name: {book2.get_book_name()}\")\n",
    "        print(f\"Author: {book2.get_author()}\")\n",
    "        print(f\"Availability: {'Available' if book2.get_availability() else 'Not Available'}\")\n",
    "        book2=book2.borrow_book()\n",
    "        print(\"Book 2 Details after borrowing:\")\n",
    "        print(f\"Book Name: {book2.get_book_name()}\")\n",
    "        print(f\"Author: {book2.get_author()}\")\n",
    "        print(f\"Availability: {'Available' if book2.get_availability() else 'Not Available'}\")"
   ]
  },
  {
   "cell_type": "markdown",
   "metadata": {},
   "source": [
    "Create a simple banking system using object-oriented concepts in Python. Design classes representing\n",
    "different types of bank accounts such as savings and checking. Implement methods for deposit, withdraw,\n",
    "and balance inquiry. Utilize inheritance to manage different account types efficiently.\n",
    "Tasks:\n",
    "* 1. Define base class(es) for bank accounts with common attributes and methods.\n",
    "* 2, Implement subclasses for specific account types (e.g. SavingsAccount, CheckingAccount).\n",
    "+ 3, Provide methods for deposit, withdraw, and balance inquiry in each subclass.\n",
    "+ 4. Test the banking system by creating instances of different account types and performing transactions. \n"
   ]
  },
  {
   "cell_type": "code",
   "execution_count": 37,
   "metadata": {},
   "outputs": [
    {
     "name": "stdout",
     "output_type": "stream",
     "text": [
      "Savings Account Details:\n",
      "Account Number: SAV123\n",
      "Account Holder: John Doe\n",
      "Account balance: $1000.00\n",
      "Deposit of $500.00 successful. New balance: $1500.00\n",
      "Deposit of $75.00 successful. New balance: $1575.00\n",
      "Interest of $75.00 added to the account.\n",
      "Withdrawal of $200.00 successful. New balance: $1375.00\n",
      "\n",
      "Checking Account Details:\n",
      "Account Number: CHK456\n",
      "Account Holder: Jane Smith\n",
      "Account balance: $500.00\n",
      "Deposit of $300.00 successful. New balance: $800.00\n",
      "Withdrawal of $800.00 successful. New balance: $0.00\n"
     ]
    }
   ],
   "source": [
    "class BankAccount:\n",
    "    def __init__(self, account_number, account_holder, balance=0.0):\n",
    "        self.__account_number = account_number\n",
    "        self.__account_holder = account_holder\n",
    "        self.__balance = balance\n",
    "    # Getter methods\n",
    "    def get_account_number(self):\n",
    "        return self.__account_number\n",
    "    def get_account_holder(self):\n",
    "        return self.__account_holder-\n",
    "    def get_balance(self):\n",
    "        return self.__balance\n",
    "    # Setter method for balance\n",
    "    def set_balance(self, balance):\n",
    "        self.__balance = balance\n",
    "    # Common method for deposit\n",
    "    def deposit(self, amount):\n",
    "        if amount > 0:\n",
    "            self.__balance += amount\n",
    "            print(f\"Deposit of ${amount:.2f} successful. New balance: ${self.__balance:.2f}\")\n",
    "        else:\n",
    "            print(\"Invalid deposit amount.\")\n",
    "    # Common method for balance inquiry\n",
    "    def check_balance(self):\n",
    "        print(f\"Account balance: ${self.__balance:.2f}\")\n",
    "class SavingsAccount(BankAccount):\n",
    "    def __init__(self, account_number, account_holder, balance=0.0, interest_rate=0.05):\n",
    "        super().__init__(account_number, account_holder, balance)\n",
    "        self.__interest_rate = interest_rate\n",
    "    # Method to add interest to the savings account\n",
    "    def add_interest(self):\n",
    "        interest = self.get_balance() * self.__interest_rate\n",
    "        self.deposit(interest)\n",
    "        print(f\"Interest of ${interest:.2f} added to the account.\")\n",
    "    # Override the withdraw method to include a minimum balance check\n",
    "    def withdraw(self, amount):\n",
    "        if amount > 0 and self.get_balance() - amount >= 100:\n",
    "            new_balance = self.get_balance() - amount\n",
    "            self.set_balance(new_balance)\n",
    "            print(f\"Withdrawal of ${amount:.2f} successful. New balance: ${self.get_balance():.2f}\")\n",
    "        else:\n",
    "            print(\"Insufficient funds or minimum balance not maintained.\")\n",
    "class CheckingAccount(BankAccount):\n",
    "    def __init__(self, account_number, account_holder, balance=0.0, overdraft_limit=1000):\n",
    "        super().__init__(account_number, account_holder, balance)\n",
    "        self.__overdraft_limit = overdraft_limit\n",
    "    # Override the withdraw method to include an overdraft limit check\n",
    "    def withdraw(self, amount):\n",
    "        if amount > 0 and self.get_balance() - amount >= -self.__overdraft_limit:\n",
    "            new_balance = self.get_balance() - amount\n",
    "            self.set_balance(new_balance)\n",
    "            print(f\"Withdrawal of ${amount:.2f} successful. New balance: ${self.get_balance():.2f}\")\n",
    "        else:\n",
    "            print(\"Insufficient funds or overdraft limit exceeded.\")\n",
    "# Test the banking system\n",
    "savings_account = SavingsAccount(\"SAV123\", \"John Doe\", 1000.0)\n",
    "checking_account = CheckingAccount(\"CHK456\", \"Jane Smith\", 500.0)\n",
    "\n",
    "print(\"Savings Account Details:\")\n",
    "print(f\"Account Number: {savings_account.get_account_number()}\")\n",
    "print(f\"Account Holder: {savings_account.get_account_holder()}\")\n",
    "savings_account.check_balance()\n",
    "savings_account.deposit(500.0)\n",
    "savings_account.add_interest()\n",
    "savings_account.withdraw(200.0)\n",
    "\n",
    "print(\"\\nChecking Account Details:\")\n",
    "print(f\"Account Number: {checking_account.get_account_number()}\")\n",
    "print(f\"Account Holder: {checking_account.get_account_holder()}\")\n",
    "checking_account.check_balance()\n",
    "checking_account.deposit(300.0)\n",
    "checking_account.withdraw(800.0)\n"
   ]
  },
  {
   "cell_type": "markdown",
   "metadata": {},
   "source": [
    "#Write a Python program that models different animals and their sounds. Design a base class called\n",
    "“Animal with a method “make_sound()”. Create subclasses like Dog and “Cat that override the\n",
    "“make_sound() method to produce appropriate sounds.\n",
    "Tasks:\n",
    "* 1. Define the “Animal class with a method “make_sound()”.\n",
    "+ 2. Create subclasses ‘Dog and “Cat that override the make_sound()° method.\n",
    "* 3. Implement the sound generation logic for each subclass.\n",
    "+ 4. Test the program by creating instances of (Dog and “Cat” and calling the ‘make_sound() method.\n"
   ]
  },
  {
   "cell_type": "code",
   "execution_count": 38,
   "metadata": {},
   "outputs": [
    {
     "name": "stdout",
     "output_type": "stream",
     "text": [
      "Dog:\n",
      "Fido the dog barks: Woof!\n",
      "\n",
      "Cat:\n",
      "Whiskers the cat meows: Meow!\n"
     ]
    }
   ],
   "source": [
    "class Animal:\n",
    "    def __init__(self, name):\n",
    "        self.name = name\n",
    "    def make_sound(self):\n",
    "        print(\"The animal makes a sound.\")\n",
    "class Dog(Animal):\n",
    "    def make_sound(self):\n",
    "        print(f\"{self.name} the dog barks: Woof!\")\n",
    "class Cat(Animal):\n",
    "    def make_sound(self):\n",
    "        print(f\"{self.name} the cat meows: Meow!\")\n",
    "# Test the program\n",
    "dog = Dog(\"Fido\")\n",
    "cat = Cat(\"Whiskers\")\n",
    "print(\"Dog:\")\n",
    "dog.make_sound()\n",
    "print(\"\\nCat:\")\n",
    "cat.make_sound()\n"
   ]
  },
  {
   "cell_type": "markdown",
   "metadata": {},
   "source": [
    "#Here is a Python code for a Restaurant Management System using Object-Oriented Programming (OOPS)"
   ]
  },
  {
   "cell_type": "code",
   "execution_count": 39,
   "metadata": {},
   "outputs": [
    {
     "name": "stdout",
     "output_type": "stream",
     "text": [
      "ID: 1, Name: Burger, Description: Beef burger with cheese, Price: $10.99, Category: Main Course, Calories: 500\n",
      "ID: 1, Name: Burger, Description: Beef burger with cheese, Price: $10.99, Category: Main Course, Calories: 550\n",
      "ID: 2, Name: Coke, Description: Soft drink, Price: $2.99, Category: Beverage, Size: Large\n",
      "ID: 2, Name: Coke, Description: Soft drink, Price: $2.99, Category: Beverage, Size: Extra Large\n"
     ]
    }
   ],
   "source": [
    "class MenuItem:\n",
    "    _id_counter = 1\n",
    "    def __init__(self, name, description, price, category):\n",
    "        self.__id = MenuItem._id_counter\n",
    "        MenuItem._id_counter += 1\n",
    "        self.name = name\n",
    "        self.description = description\n",
    "        self.price = price\n",
    "        self.category = category\n",
    "    def get_id(self):\n",
    "        return self.__id\n",
    "    def update_menu_item(self, name=None, description=None, price=None,category=None):\n",
    "        if name:\n",
    "            self.name = name\n",
    "            if description:\n",
    "                self.description = description\n",
    "            if price:\n",
    "                self.price = price\n",
    "            if category:\n",
    "                self.category = category\n",
    "    def __str__(self):\n",
    "        return f\"ID: {self.__id}, Name: {self.name}, Description: {self.description}, Price: ${self.price:.2f}, Category: {self.category}\"\n",
    "class FoodItem(MenuItem):\n",
    "    def __init__(self, name, description, price, category, calories):\n",
    "        super().__init__(name, description, price, category)\n",
    "        self.calories = calories\n",
    "    def update_food_item(self, name=None, description=None, price=None, category=None, calories=None):\n",
    "        super().update_menu_item(name, description, price, category)\n",
    "        if calories:\n",
    "            self.calories = calories\n",
    "    def __str__(self):\n",
    "        return f\"{super().__str__()}, Calories: {self.calories}\"\n",
    "class BeverageItem(MenuItem):\n",
    "    def __init__(self, name, description, price, category, size):\n",
    "        super().__init__(name, description, price, category)\n",
    "        self.size = size\n",
    "    def update_beverage_item(self, name=None, description=None, price=None, category=None, size=None):\n",
    "        super().update_menu_item(name, description, price, category)\n",
    "        if size:\n",
    "            self.size = size\n",
    "    def __str__(self):\n",
    "        return f\"{super().__str__()}, Size: {self.size}\"\n",
    "# Test the Restaurant Management System\n",
    "food_item1 = FoodItem(\"Burger\", \"Beef burger with cheese\", 10.99, \"Main Course\", 500)\n",
    "print(food_item1)\n",
    "food_item1.update_food_item(calories=550)\n",
    "print(food_item1)\n",
    "beverage_item1 = BeverageItem(\"Coke\", \"Soft drink\", 2.99, \"Beverage\", \"Large\")\n",
    "print(beverage_item1)\n",
    "beverage_item1.update_beverage_item(size=\"Extra Large\")\n",
    "print(beverage_item1)\n",
    "\n",
    "                         \n"
   ]
  },
  {
   "cell_type": "markdown",
   "metadata": {},
   "source": [
    "#Here is a Python code for a Hotel Management System using Object-Oriented Programming (OOPS):\n"
   ]
  },
  {
   "cell_type": "code",
   "execution_count": 40,
   "metadata": {},
   "outputs": [
    {
     "name": "stdout",
     "output_type": "stream",
     "text": [
      "ID: 1, Room Number: 101, Room Type: Suite, Rate: $200.00, Availability: True, Extra Bed: True\n",
      "ID: 2, Room Number: 202, Room Type: Standard, Rate: $150.00, Availability: True\n",
      "Room 101 booked for John Doe.\n",
      "John Doe checked in to room 101.\n",
      "Room 101 is now available.\n",
      "Room 202 booked for Jane Doe.\n",
      "Jane Doe checked in to room 202.\n",
      "Room 202 is now available.\n"
     ]
    }
   ],
   "source": [
    "class Room:\n",
    "    _id_counter = 1\n",
    "    def __init__(self, room_number, room_type, rate):\n",
    "        self.__id = Room._id_counter\n",
    "        Room._id_counter += 1\n",
    "        self.room_number = room_number\n",
    "        self.room_type = room_type\n",
    "        self.rate = rate\n",
    "        self.__availability = True\n",
    "        self.guest = None\n",
    "    def get_id(self):\n",
    "        return self.__id\n",
    "    def book_room(self, guest):\n",
    "        if self.__availability:\n",
    "            self.__availability = False\n",
    "            self.guest = guest\n",
    "            print(f\"Room {self.room_number} booked for {guest}.\")\n",
    "        else:\n",
    "            print(f\"Room {self.room_number} is not available.\")\n",
    "\n",
    "    def check_in(self, guest):\n",
    "        if not self.__availability:\n",
    "            print(f\"{guest} checked in to room {self.room_number}.\")\n",
    "        else:\n",
    "            print(f\"Room {self.room_number} is not booked for {guest}.\")\n",
    "    def check_out(self):\n",
    "        if not self.__availability:\n",
    "            self.__availability = True\n",
    "            self.guest = None\n",
    "            print(f\"Room {self.room_number} is now available.\")\n",
    "        else:\n",
    "            print(f\"Room {self.room_number} is already available.\")\n",
    "    def __str__(self):\n",
    "        return f\"ID: {self.__id}, Room Number: {self.room_number}, Room Type: {self.room_type}, Rate: ${self.rate:.2f}, Availability: {self.__availability}\"\n",
    "class SuiteRoom(Room):\n",
    "    def __init__(self, room_number, rate, extra_bed):\n",
    "        super().__init__(room_number, \"Suite\", rate)\n",
    "        self.extra_bed = extra_bed\n",
    "    def __str__(self):\n",
    "        return f\"{super().__str__()}, Extra Bed: {self.extra_bed}\"\n",
    "class StandardRoom(Room):\n",
    "    def __init__(self, room_number, rate, view):\n",
    "        super().__init__(room_number, \"Standard\", rate)\n",
    "        self.view = view\n",
    "def __str__(self):\n",
    "    return f\"{super().__str__()}, View: {self.view}\"\n",
    "# Test the Hotel Management System\n",
    "suite_room1 = SuiteRoom(101, 200.00, True)\n",
    "standard_room1 = StandardRoom(202, 150.00, \"City View\")\n",
    "print(suite_room1)\n",
    "print(standard_room1)\n",
    "suite_room1.book_room(\"John Doe\")\n",
    "suite_room1.check_in(\"John Doe\")\n",
    "suite_room1.check_out()\n",
    "standard_room1.book_room(\"Jane Doe\")\n",
    "standard_room1.check_in(\"Jane Doe\")\n",
    "standard_room1.check_out()\n"
   ]
  },
  {
   "cell_type": "markdown",
   "metadata": {},
   "source": [
    "#Here is a Python code for a Fitness Club Management System using Object-Oriented Programming (OOPS):\n"
   ]
  },
  {
   "cell_type": "code",
   "execution_count": 47,
   "metadata": {},
   "outputs": [
    {
     "name": "stdout",
     "output_type": "stream",
     "text": [
      "ID: 1, Name: John Doe, Age: 35, Membership Type: Premium, Membership Status: Active, Family Size: 4\n",
      "ID: 2, Name: Jane Doe, Age: 28, Membership Type: Basic, Membership Status: Active, Personal Trainer: Trainer A\n",
      "Member John Doe registered successfully.\n",
      "Added Jane Doe (age 10) to John Doe's family membership.\n",
      "Membership for John Doe renewed successfully.\n",
      "Membership for John Doe cancelled successfully.\n",
      "Member Jane Doe registered successfully.\n",
      "Scheduled a session with Trainer A on 2023-03-15 at 10:00 AM for Jane Doe.\n",
      "Membership for Jane Doe renewed successfully.\n",
      "Membership for Jane Doe cancelled successfully.\n"
     ]
    }
   ],
   "source": [
    "class Member:\n",
    "    _id_counter = 1\n",
    "    def __init__(self, name, age, membership_type):\n",
    "        self.__id = Member._id_counter\n",
    "        Member._id_counter += 1\n",
    "        self.name = name\n",
    "        self.age = age\n",
    "        self.membership_type = membership_type\n",
    "        self.__membership_status = \"Active\"\n",
    "        def get_id(self):\n",
    "            return self.__id\n",
    "    def register_member(self):\n",
    "        print(f\"Member {self.name} registered successfully.\")\n",
    "    def renew_membership(self):\n",
    "        if self.__membership_status == \"Active\":\n",
    "            print(f\"Membership for {self.name} renewed successfully.\")\n",
    "        else:\n",
    "            print(f\"Membership for {self.name} is already cancelled.\")\n",
    "    def cancel_membership(self):\n",
    "        if self.__membership_status == \"Active\":\n",
    "            self.__membership_status = \"Cancelled\"\n",
    "            print(f\"Membership for {self.name} cancelled successfully.\")\n",
    "        else:\n",
    "            print(f\"Membership for {self.name} is already cancelled.\")\n",
    "    def __str__(self):\n",
    "        return f\"ID: {self.__id}, Name: {self.name}, Age: {self.age}, Membership Type: {self.membership_type}, Membership Status: {self.__membership_status}\"\n",
    "class FamilyMember(Member):\n",
    "    def __init__(self, name, age, membership_type, family_size):\n",
    "        super().__init__(name, age, membership_type)\n",
    "        self.family_size = family_size\n",
    "    def __str__(self):\n",
    "        return f\"{super().__str__()}, Family Size: {self.family_size}\"\n",
    "    def add_family_member(self, name, age):\n",
    "        print(f\"Added {name} (age {age}) to {self.name}'s family membership.\")\n",
    "class IndividualMember(Member):\n",
    "    def __init__(self, name, age, membership_type, personal_trainer):\n",
    "        super().__init__(name, age, membership_type)\n",
    "        self.personal_trainer = personal_trainer\n",
    "    def __str__(self):\n",
    "        return f\"{super().__str__()}, Personal Trainer: {self.personal_trainer}\"\n",
    "    def schedule_session(self, date, time):\n",
    "        print(f\"Scheduled a session with {self.personal_trainer} on {date} at {time} for {self.name}.\")\n",
    "# Test the Fitness Club Management System\n",
    "family_member1 = FamilyMember(\"John Doe\", 35, \"Premium\", 4)\n",
    "individual_member1 = IndividualMember(\"Jane Doe\", 28, \"Basic\", \"Trainer A\")\n",
    "print(family_member1)\n",
    "print(individual_member1)\n",
    "family_member1.register_member()\n",
    "family_member1.add_family_member(\"Jane Doe\", 10)\n",
    "family_member1.renew_membership()\n",
    "family_member1.cancel_membership()\n",
    "individual_member1.register_member()\n",
    "individual_member1.schedule_session(\"2023-03-15\", \"10:00 AM\")\n",
    "individual_member1.renew_membership()\n",
    "individual_member1.cancel_membership()\n"
   ]
  },
  {
   "cell_type": "markdown",
   "metadata": {},
   "source": [
    "#Here is a Python code for an Event Management System using Object-Oriented Programming (OOPS):"
   ]
  },
  {
   "cell_type": "code",
   "execution_count": 51,
   "metadata": {},
   "outputs": [
    {
     "name": "stdout",
     "output_type": "stream",
     "text": [
      "ID: 1, Name: Private Party, Date: 2023-03-15, Time: 18:00, Location: Hotel Ballroom, Attendees: , Password: password123\n",
      "ID: 2, Name: Music Festival, Date: 2023-06-20, Time: 12:00, Location: Central Park, Attendees: , Max Capacity: 10000\n",
      "Event 'Private Party' created successfully.\n",
      "Added John Doe to the attendee list for event 'Private Party'.\n",
      "Added Jane Doe to the attendee list for event 'Private Party'.\n",
      "Password is valid.\n",
      "Removed John Doe from the attendee list for event 'Private Party'.\n",
      "Event 'Music Festival' created successfully.\n",
      "Added Alice Smith to the attendee list for event 'Music Festival'.\n",
      "Added Bob Johnson to the attendee list for event 'Music Festival'.\n",
      "Event is not full.\n"
     ]
    },
    {
     "data": {
      "text/plain": [
       "True"
      ]
     },
     "execution_count": 51,
     "metadata": {},
     "output_type": "execute_result"
    }
   ],
   "source": [
    "class Event:\n",
    "    _id_counter = 1\n",
    "    def __init__(self, name, date, time, location):\n",
    "        self.__id = Event._id_counter\n",
    "        Event._id_counter += 1\n",
    "        self.name = name\n",
    "        self.date = date\n",
    "        self.time = time\n",
    "        self.location = location\n",
    "        self._attendees = []\n",
    "    def get_id(self):\n",
    "        return self.__id\n",
    "    def create_event(self):\n",
    "        print(f\"Event '{self.name}' created successfully.\")\n",
    "    def add_attendee(self, attendee):\n",
    "        self._attendees.append(attendee)\n",
    "        print(f\"Added {attendee} to the attendee list for event '{self.name}'.\")\n",
    "    def remove_attendee(self, attendee):\n",
    "        if attendee in self._attendees:\n",
    "            self._attendees.remove(attendee)\n",
    "            print(f\"Removed {attendee} from the attendee list for event '{self.name}'.\")\n",
    "        else:\n",
    "            print(f\"{attendee} is not an attendee for event '{self.name}'.\")\n",
    "    def get_total_attendees(self):\n",
    "        return len(self._attendees)\n",
    "    def __str__(self):\n",
    "        return (f\"ID: {self.__id}, Name: {self.name}, Date: {self.date}, Time: {self.time}, \"\n",
    "                f\"Location: {self.location}, Attendees: {', '.join(self._attendees)}\")\n",
    "class PrivateEvent(Event):\n",
    "    def __init__(self, name, date, time, location, password):\n",
    "        super().__init__(name, date, time, location)\n",
    "        self.password = password\n",
    "    def __str__(self):\n",
    "        return f\"{super().__str__()}, Password: {self.password}\"\n",
    "    def validate_password(self, password):\n",
    "        if password == self.password:\n",
    "            print(\"Password is valid.\")\n",
    "            return True\n",
    "        else:\n",
    "            print(\"Password is invalid.\")\n",
    "            return False\n",
    "class PublicEvent(Event):\n",
    "    def __init__(self, name, date, time, location, max_capacity):\n",
    "        super().__init__(name, date, time, location)\n",
    "        self.max_capacity = max_capacity\n",
    "    def __str__(self):\n",
    "        return f\"{super().__str__()}, Max Capacity: {self.max_capacity}\"\n",
    "    def check_capacity(self):\n",
    "        if len(self._attendees) < self.max_capacity:\n",
    "            print(\"Event is not full.\")\n",
    "            return True\n",
    "        else:\n",
    "            print(\"Event is full.\")\n",
    "            return False\n",
    "# Test the Event Management System\n",
    "private_event1 = PrivateEvent(\"Private Party\", \"2023-03-15\", \"18:00\", \"Hotel Ballroom\", \"password123\")\n",
    "public_event1 = PublicEvent(\"Music Festival\", \"2023-06-20\", \"12:00\", \"Central Park\", 10000)\n",
    "print(private_event1)\n",
    "print(public_event1)\n",
    "private_event1.create_event()\n",
    "private_event1.add_attendee(\"John Doe\")\n",
    "private_event1.add_attendee(\"Jane Doe\")\n",
    "private_event1.validate_password(\"password123\")\n",
    "private_event1.remove_attendee(\"John Doe\")\n",
    "public_event1.create_event()\n",
    "public_event1.add_attendee(\"Alice Smith\")\n",
    "public_event1.add_attendee(\"Bob Johnson\")\n",
    "public_event1.check_capacity()\n"
   ]
  },
  {
   "cell_type": "markdown",
   "metadata": {},
   "source": [
    "#Here is a Python code for an Airline Reservation System using Object-Oriented Programming (OOPS):"
   ]
  },
  {
   "cell_type": "code",
   "execution_count": 54,
   "metadata": {},
   "outputs": [
    {
     "name": "stdout",
     "output_type": "stream",
     "text": [
      "ID: 1, Flight Number: DF101, Departure Airport: New York, Arrival Airport: Los Angeles, Departure Time: 08:00, Arrival Time: 11:00, Available Seats: 100, Domestic Route: East Coast\n",
      "ID: 2, Flight Number: IF201, Departure Airport: New York, Arrival Airport: London, Departure Time: 10:00, Arrival Time: 14:00, Available Seats: 200, International Route: Transatlantic, Visa Required: True\n",
      "Seat booked on flight DF101. Remaining seats: 99\n",
      "Seat booked on flight DF101. Remaining seats: 98\n",
      "No reservations to cancel on flight DF101.\n",
      "Seat booked on flight IF201. Remaining seats: 199\n",
      "No reservations to cancel on flight IF201.\n"
     ]
    }
   ],
   "source": [
    "class Flight:\n",
    "    _id_counter = 1\n",
    "    def __init__(self, flight_number, departure_airport, arrival_airport, departure_time, arrival_time, available_seats):\n",
    "        self.__id = Flight._id_counter\n",
    "        Flight._id_counter += 1\n",
    "        self.flight_number = flight_number\n",
    "        self.departure_airport = departure_airport\n",
    "        self.arrival_airport = arrival_airport\n",
    "        self.departure_time = departure_time\n",
    "        self.arrival_time = arrival_time\n",
    "        self.__available_seats = available_seats\n",
    "    def get_id(self):\n",
    "        return self.__id\n",
    "    def book_seat(self):\n",
    "        if self.__available_seats > 0:\n",
    "            self.__available_seats -= 1\n",
    "            print(f\"Seat booked on flight {self.flight_number}. Remaining seats: {self.__available_seats}\")\n",
    "        else:\n",
    "            print(f\"Flight {self.flight_number} is fully booked.\")\n",
    "    def cancel_reservation(self):\n",
    "        if self.__available_seats < self.__available_seats:\n",
    "            self.__available_seats += 1\n",
    "            print(f\"Reservation cancelled on flight {self.flight_number}. Remaining seats: {self.__available_seats}\")\n",
    "        else:\n",
    "            print(f\"No reservations to cancel on flight {self.flight_number}.\")\n",
    "    def get_remaining_seats(self):\n",
    "        return self.__available_seats\n",
    "    def __str__(self):\n",
    "        return f\"ID: {self.__id}, Flight Number: {self.flight_number}, Departure Airport: {self.departure_airport}, Arrival Airport: {self.arrival_airport}, Departure Time: {self.departure_time}, Arrival Time: {self.arrival_time}, Available Seats: {self.__available_seats}\"\n",
    "class DomesticFlight(Flight):\n",
    "    def __init__(self, flight_number, departure_airport, arrival_airport, departure_time, arrival_time, available_seats, domestic_route):\n",
    "        super().__init__(flight_number, departure_airport, arrival_airport, departure_time, arrival_time, available_seats)\n",
    "        self.domestic_route = domestic_route\n",
    "    def __str__(self):\n",
    "        return f\"{super().__str__()}, Domestic Route: {self.domestic_route}\"\n",
    "    def get_domestic_route(self):\n",
    "        return self.domestic_route\n",
    "class InternationalFlight(Flight):\n",
    "    def __init__(self, flight_number, departure_airport, arrival_airport, departure_time, arrival_time, available_seats, international_route, visa_required):\n",
    "        super().__init__(flight_number, departure_airport, arrival_airport, departure_time, arrival_time, available_seats)\n",
    "        self.international_route = international_route\n",
    "        self.visa_required = visa_required\n",
    "    def __str__(self):\n",
    "        return f\"{super().__str__()}, International Route: {self.international_route}, Visa Required: {self.visa_required}\"\n",
    "    def get_international_route(self):\n",
    "        return self.international_route\n",
    "    def get_visa_required(self):\n",
    "        return self.visa_required\n",
    "# Test the Airline Reservation System\n",
    "domestic_flight1 = DomesticFlight(\"DF101\", \"New York\", \"Los Angeles\", \"08:00\", \"11:00\", 100, \"East Coast\")\n",
    "international_flight1 = InternationalFlight(\"IF201\", \"New York\", \"London\", \"10:00\", \"14:00\", 200, \"Transatlantic\", True)\n",
    "print(domestic_flight1)\n",
    "print(international_flight1)\n",
    "domestic_flight1.book_seat()\n",
    "domestic_flight1.book_seat()\n",
    "domestic_flight1.cancel_reservation()\n",
    "international_flight1.book_seat()\n",
    "international_flight1.cancel_reservation()\n"
   ]
  },
  {
   "cell_type": "code",
   "execution_count": 58,
   "metadata": {},
   "outputs": [],
   "source": [
    "#Question:-12\n",
    "def add(a, b):\n",
    "    return a + b\n",
    "def subtract(a, b):\n",
    "    return a - b\n",
    "def multiply(a, b):\n",
    "    return a * b\n",
    "def divide(a, b):\n",
    "    if b == 0:\n",
    "        raise ValueError(\"Cannot divide by zero!\")\n",
    "    return a / b\n"
   ]
  },
  {
   "cell_type": "code",
   "execution_count": 60,
   "metadata": {},
   "outputs": [],
   "source": [
    "#Question:-14\n",
    "# string_utils.py\n",
    "def reverse_string(s):\n",
    "    return s[::-1]\n",
    "def capitalize_string(s):\n",
    "    return s.upper()\n",
    "\n"
   ]
  },
  {
   "cell_type": "code",
   "execution_count": 62,
   "metadata": {},
   "outputs": [
    {
     "name": "stdout",
     "output_type": "stream",
     "text": [
      "Coefficient of Correlation: 0.15220864495523292\n"
     ]
    }
   ],
   "source": [
    "#Question:-24  Coefficient of Correlation\n",
    "#Using Karl Pearson's Coefficient of Correlation Method, we can calculate the coefficient of correlation between the marks obtained by 10 students in Accountancy and Statistics.\n",
    "#Let's calculate the coefficient of correlation:\n",
    "#python\n",
    "import numpy as np\n",
    "accountancy_marks = [45, 70, 65, 30, 40, 35, 75, 85, 60]\n",
    "statistics_marks = [35, 90, 70, 40, 9, 40, 60, 80, 80, 50]\n",
    "n = len(accountancy_marks)\n",
    "sum_x = sum(accountancy_marks)\n",
    "sum_y = sum(statistics_marks)\n",
    "sum_x_squared = sum([x**2 for x in accountancy_marks])\n",
    "sum_y_squared = sum([y**2 for y in statistics_marks])\n",
    "sum_xy = sum([x*y for x, y in zip(accountancy_marks, statistics_marks)])\n",
    "r = (n*sum_xy - sum_x*sum_y) / np.sqrt((n*sum_x_squared - sum_x**2) * (n*sum_y_squared - sum_y**2))\n",
    "print(\"Coefficient of Correlation:\", r)\n",
    "\n"
   ]
  },
  {
   "cell_type": "code",
   "execution_count": 63,
   "metadata": {},
   "outputs": [
    {
     "name": "stdout",
     "output_type": "stream",
     "text": [
      " * Serving Flask app '__main__'\n",
      " * Debug mode: off\n"
     ]
    },
    {
     "name": "stderr",
     "output_type": "stream",
     "text": [
      "WARNING: This is a development server. Do not use it in a production deployment. Use a production WSGI server instead.\n",
      " * Running on http://127.0.0.1:5000\n",
      "Press CTRL+C to quit\n"
     ]
    }
   ],
   "source": [
    "#Question:-39  Flask Route\n",
    "#To create a basic Flask route that displays \"Hello, World!\" on the homepage, you can use the following code:\n",
    "from flask import Flask\n",
    "app = Flask(__name__)\n",
    "@app.route('/')\n",
    "def hello_world():\n",
    "    return 'Hello, World!'\n",
    "if __name__ == '__main__':\n",
    "    app.run()\n"
   ]
  },
  {
   "cell_type": "code",
   "execution_count": 65,
   "metadata": {},
   "outputs": [
    {
     "name": "stdout",
     "output_type": "stream",
     "text": [
      " * Serving Flask app '__main__'\n",
      " * Debug mode: off\n"
     ]
    },
    {
     "name": "stderr",
     "output_type": "stream",
     "text": [
      "WARNING: This is a development server. Do not use it in a production deployment. Use a production WSGI server instead.\n",
      " * Running on http://127.0.0.1:5000\n",
      "Press CTRL+C to quit\n"
     ]
    }
   ],
   "source": [
    "#Question:-40  Flask Form Submissions\n",
    "#To handle form submissions using POST requests in Flask, you can use the following code\n",
    "from flask import Flask, request\n",
    "app = Flask(__name__)\n",
    "@app.route('/submit', methods=['POST'])\n",
    "def submit():\n",
    "    name = request.form['name']\n",
    "    email = request.form['email']\n",
    "    # Do something with the form data\n",
    "    return 'Form submitted successfully!'\n",
    "if __name__ == '__main__':\n",
    "    app.run()\n"
   ]
  },
  {
   "cell_type": "code",
   "execution_count": 66,
   "metadata": {},
   "outputs": [
    {
     "name": "stdout",
     "output_type": "stream",
     "text": [
      " * Serving Flask app '__main__'\n",
      " * Debug mode: off\n"
     ]
    },
    {
     "name": "stderr",
     "output_type": "stream",
     "text": [
      "WARNING: This is a development server. Do not use it in a production deployment. Use a production WSGI server instead.\n",
      " * Running on http://127.0.0.1:5000\n",
      "Press CTRL+C to quit\n"
     ]
    }
   ],
   "source": [
    "#Question:-41 Flask Route with URL Parameter\n",
    "#To create a Flask route that accepts a parameter in the URL and displays it on the page, you can use the following code:\n",
    "from flask import Flask, request\n",
    "app = Flask(__name__)\n",
    "@app.route('/user/<username>')\n",
    "def user(username):\n",
    "    return 'Hello, {}!'.format(username)\n",
    "if __name__ == '__main__':\n",
    "    app.run()\n"
   ]
  },
  {
   "cell_type": "code",
   "execution_count": 78,
   "metadata": {},
   "outputs": [
    {
     "name": "stdout",
     "output_type": "stream",
     "text": [
      " * Serving Flask app '__main__'\n",
      " * Debug mode: off\n"
     ]
    },
    {
     "name": "stderr",
     "output_type": "stream",
     "text": [
      "WARNING: This is a development server. Do not use it in a production deployment. Use a production WSGI server instead.\n",
      " * Running on http://127.0.0.1:5000\n",
      "Press CTRL+C to quit\n"
     ]
    }
   ],
   "source": [
    "#Question:-45 Flask-WTF Forms\n",
    "from flask import Flask, render_template\n",
    "from flask_wtf import FlaskForm\n",
    "from wtforms import StringField, SubmitField\n",
    "from wtforms.validators import DataRequired\n",
    "app = Flask(__name__)\n",
    "app.config['SECRET_KEY'] = 'ecret_key'\n",
    "class MyForm(FlaskForm):\n",
    "    name = StringField('Name', validators=[DataRequired()])\n",
    "    submit = SubmitField('Submit')\n",
    "@app.route('/form', methods=['GET', 'POST'])\n",
    "def form():\n",
    "    form = MyForm()\n",
    "#if form.validate_on_submit():\n",
    "    #return 'Form submitted successfully!'\n",
    "#return render_template('form.html', form=form)\n",
    "if __name__ == '__main__':\n",
    "    app.run()\n",
    "\n"
   ]
  },
  {
   "cell_type": "code",
   "execution_count": 74,
   "metadata": {},
   "outputs": [
    {
     "name": "stdout",
     "output_type": "stream",
     "text": [
      " * Serving Flask app '__main__'\n",
      " * Debug mode: off\n"
     ]
    },
    {
     "name": "stderr",
     "output_type": "stream",
     "text": [
      "WARNING: This is a development server. Do not use it in a production deployment. Use a production WSGI server instead.\n",
      " * Running on http://127.0.0.1:5000\n",
      "Press CTRL+C to quit\n"
     ]
    }
   ],
   "source": [
    "#Question:-46  Flask File Uploads\n",
    "#To implement file uploads in a Flask application, you can use the following code:\n",
    "from flask import Flask, request\n",
    "app = Flask(__name__)\n",
    "@app.route('/upload', methods=['POST'])\n",
    "def upload():\n",
    "    file = request.files['file']\n",
    "  # Do something with the file\n",
    "    return 'File uploaded successfully!'\n",
    "if __name__ == '__main__':\n",
    "    app.run()\n",
    "\n",
    "\n"
   ]
  },
  {
   "cell_type": "code",
   "execution_count": 69,
   "metadata": {},
   "outputs": [
    {
     "name": "stdout",
     "output_type": "stream",
     "text": [
      " * Serving Flask app '__main__'\n",
      " * Debug mode: off\n"
     ]
    },
    {
     "name": "stderr",
     "output_type": "stream",
     "text": [
      "WARNING: This is a development server. Do not use it in a production deployment. Use a production WSGI server instead.\n",
      " * Running on http://127.0.0.1:5000\n",
      "Press CTRL+C to quit\n"
     ]
    }
   ],
   "source": [
    "#Question:47  Flask Blueprint\n",
    "#To create a Flask blueprint and use it in a Flask application, you can use the following code:\n",
    "from flask import Flask, Blueprint\n",
    "app = Flask(__name__)\n",
    "# Create a blueprint\n",
    "bp = Blueprint('my_blueprint', __name__)\n",
    "@bp.route('/hello')\n",
    "def hello():\n",
    "    return 'Hello, World!'\n",
    "# Register the blueprint\n",
    "app.register_blueprint(bp)\n",
    "if __name__ == '__main__':\n",
    "    app.run()\n"
   ]
  },
  {
   "cell_type": "code",
   "execution_count": 73,
   "metadata": {},
   "outputs": [],
   "source": [
    "#Question:-49 Flask MongoDB Application\n",
    "#To create a fully functional web application using Flask, MongoDB, and a signup and signin page, you can use the following code:\n",
    "from flask import Flask, render_template, request, redirect, url_for\n",
    "from flask_pymongo import PyMongo\n",
    "\n",
    "app = Flask(__name__)\n",
    "app.config['MONGO_URI'] = 'mongodb://localhost:27017/my_database'\n",
    "mongo = PyMongo(app)\n",
    "@app.route('/signup', methods=['GET', 'POST'])\n",
    "def signup():\n",
    "    if request.method == 'POST':\n",
    "        username = request.form['username']\n",
    "        password = request.form['password']\n",
    "        mongo.db.users.insert_one({'username': username, 'password': password})\n",
    "        return redirect(url_for('signin'))\n",
    "    return render_template('signup.html')\n",
    "@app.route('/signin', methods=['GET', 'POST'])\n",
    "def signin():\n",
    "    if request.method == 'POST':\n",
    "        username = request.form['username']\n",
    "        password = request.form['password']\n",
    "        user = mongo.db.users.find_one({'username': username, 'password': password})\n",
    "        if user is not None:\n",
    "            return 'Hello, {}!'.format(username)\n",
    "        else:\n",
    "            return 'Invalid username or password'\n",
    "    return render_template\n"
   ]
  }
 ],
 "metadata": {
  "kernelspec": {
   "display_name": "base",
   "language": "python",
   "name": "python3"
  },
  "language_info": {
   "codemirror_mode": {
    "name": "ipython",
    "version": 3
   },
   "file_extension": ".py",
   "mimetype": "text/x-python",
   "name": "python",
   "nbconvert_exporter": "python",
   "pygments_lexer": "ipython3",
   "version": "3.11.5"
  }
 },
 "nbformat": 4,
 "nbformat_minor": 2
}
